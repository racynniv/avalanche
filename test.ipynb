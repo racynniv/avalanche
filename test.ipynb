{
 "cells": [
  {
   "cell_type": "code",
   "execution_count": 19,
   "metadata": {},
   "outputs": [],
   "source": [
    "import requests\n",
    "import pandas as pd\n",
    "import os\n",
    "import json\n",
    "import ast"
   ]
  },
  {
   "cell_type": "code",
   "execution_count": 20,
   "metadata": {},
   "outputs": [
    {
     "name": "stdout",
     "output_type": "stream",
     "text": [
      "2020\n",
      "False\n",
      "<class 'numpy.int64'>\n"
     ]
    },
    {
     "ename": "NameError",
     "evalue": "name 'items' is not defined",
     "output_type": "error",
     "traceback": [
      "\u001b[0;31m---------------------------------------------------------------------------\u001b[0m",
      "\u001b[0;31mNameError\u001b[0m                                 Traceback (most recent call last)",
      "Cell \u001b[0;32mIn[20], line 31\u001b[0m\n\u001b[1;32m     28\u001b[0m             items\u001b[39m.\u001b[39madd(item)\n\u001b[1;32m     29\u001b[0m     \u001b[39m# if the element is not a list, add it directly to the set\u001b[39;00m\n\u001b[1;32m     30\u001b[0m     \u001b[39melse\u001b[39;00m:\n\u001b[0;32m---> 31\u001b[0m         items\u001b[39m.\u001b[39madd(elem)\n\u001b[1;32m     32\u001b[0m \u001b[39m# write the unique items to the file\u001b[39;00m\n\u001b[1;32m     33\u001b[0m f\u001b[39m.\u001b[39mwrite(\u001b[39mf\u001b[39m\u001b[39m\"\u001b[39m\u001b[39m{\u001b[39;00mcol\u001b[39m}\u001b[39;00m\u001b[39m \u001b[39m\u001b[39m{\u001b[39;00m\u001b[39mlist\u001b[39m(items)\u001b[39m}\u001b[39;00m\u001b[39m\\n\u001b[39;00m\u001b[39m\"\u001b[39m)\n",
      "\u001b[0;31mNameError\u001b[0m: name 'items' is not defined"
     ]
    }
   ],
   "source": [
    "df = pd.read_csv('data/ratings_data.csv')\n",
    "\n",
    "exceptions = [\"Bottom Line\",\"Discussion\"]\n",
    "\n",
    "with open('output.txt', 'w') as f:\n",
    "    # iterate over each column in the DataFrame\n",
    "    for col in df.columns:\n",
    "        if col in exceptions:\n",
    "            continue\n",
    "        # check if the column contains lists\n",
    "        items = set()\n",
    "        # iterate over each element in the column\n",
    "        for elem in df[col]:\n",
    "            # check if the element is a string that looks like a list\n",
    "            if isinstance(elem, str) and elem.startswith('[') and elem.endswith(']'):\n",
    "                # use ast.literal_eval() to safely evaluate the string as a list\n",
    "                elem = ast.literal_eval(elem)\n",
    "            # if the element is a list, iterate over each item in the list\n",
    "            if isinstance(elem, list):\n",
    "                for item in elem:\n",
    "                    # add unique items to the set\n",
    "                    items.add(item)\n",
    "            # if the element is not a list, add it directly to the set\n",
    "            else:\n",
    "                items.add(elem)\n",
    "        # write the unique items to the file\n",
    "        f.write(f\"{col} {list(items)}\\n\")\n"
   ]
  }
 ],
 "metadata": {
  "kernelspec": {
   "display_name": "ski",
   "language": "python",
   "name": "python3"
  },
  "language_info": {
   "codemirror_mode": {
    "name": "ipython",
    "version": 3
   },
   "file_extension": ".py",
   "mimetype": "text/x-python",
   "name": "python",
   "nbconvert_exporter": "python",
   "pygments_lexer": "ipython3",
   "version": "3.10.9"
  },
  "orig_nbformat": 4,
  "vscode": {
   "interpreter": {
    "hash": "0527f4746b185f5e20a73a2a7d6495a7c8b77383ce06d2afb131af4dd5acf0e2"
   }
  }
 },
 "nbformat": 4,
 "nbformat_minor": 2
}
